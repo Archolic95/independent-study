{
 "cells": [
  {
   "cell_type": "markdown",
   "id": "6c40891e",
   "metadata": {},
   "source": [
    "The last task we still have on the table is to perform the real-time inference of our model."
   ]
  },
  {
   "cell_type": "code",
   "execution_count": null,
   "id": "2bcc9590",
   "metadata": {},
   "outputs": [],
   "source": []
  }
 ],
 "metadata": {
  "kernelspec": {
   "display_name": "Python 3",
   "language": "python",
   "name": "python3"
  },
  "language_info": {
   "codemirror_mode": {
    "name": "ipython",
    "version": 3
   },
   "file_extension": ".py",
   "mimetype": "text/x-python",
   "name": "python",
   "nbconvert_exporter": "python",
   "pygments_lexer": "ipython3",
   "version": "3.7.10"
  }
 },
 "nbformat": 4,
 "nbformat_minor": 5
}
